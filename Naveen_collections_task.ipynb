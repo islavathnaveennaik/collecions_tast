{
  "nbformat": 4,
  "nbformat_minor": 0,
  "metadata": {
    "colab": {
      "provenance": [],
      "include_colab_link": true
    },
    "kernelspec": {
      "name": "python3",
      "display_name": "Python 3"
    },
    "language_info": {
      "name": "python"
    }
  },
  "cells": [
    {
      "cell_type": "markdown",
      "metadata": {
        "id": "view-in-github",
        "colab_type": "text"
      },
      "source": [
        "<a href=\"https://colab.research.google.com/github/islavathnaveennaik/collecions_tast/blob/main/Naveen_collections_task.ipynb\" target=\"_parent\"><img src=\"https://colab.research.google.com/assets/colab-badge.svg\" alt=\"Open In Colab\"/></a>"
      ]
    },
    {
      "cell_type": "markdown",
      "source": [
        "#List"
      ],
      "metadata": {
        "id": "p4-zDKzk8NNg"
      }
    },
    {
      "cell_type": "code",
      "execution_count": null,
      "metadata": {
        "id": "YUoloRUH74nl"
      },
      "outputs": [],
      "source": [
        "#1. Write a Python program to sum all the items in a list.\n",
        "# 2. Write a Python program to multiply all the items in a list.\n",
        "# 3. Write a Python program to get the largest number from a list.\n",
        "# 4. Write a Python program to get the smallest number from a list.\n",
        "# 5. Write a Python program to count the number of strings from a given list of strings. The string length is 2 or more and the first and last characters are the same.\n",
        "# Sample List : ['abc', 'xyz', 'aba', '1221']\n",
        "# Expected Result : 2\n"
      ]
    },
    {
      "cell_type": "code",
      "source": [
        "#1\n",
        "def sum_list(numbers):\n",
        "  \"\"\"Sums all the items in a list.\"\"\"\n",
        "  total = 0\n",
        "  for num in numbers:\n",
        "    total += num\n",
        "  return total\n",
        "\n",
        "# Example\n",
        "numbers = [1, 2, 3, 4, 5]\n",
        "result = sum_list(numbers)\n",
        "print( result)"
      ],
      "metadata": {
        "colab": {
          "base_uri": "https://localhost:8080/"
        },
        "id": "AGiXlrYuG1LH",
        "outputId": "e0d9c21d-30e3-4b2c-b350-74c7fe029397"
      },
      "execution_count": null,
      "outputs": [
        {
          "output_type": "stream",
          "name": "stdout",
          "text": [
            "15\n"
          ]
        }
      ]
    },
    {
      "cell_type": "code",
      "source": [
        "#2\n",
        "def multiply_list(numbers):\n",
        "  \"\"\"Multiplies all the items in a list.\"\"\"\n",
        "  product = 1\n",
        "  for num in numbers:\n",
        "    product *= num\n",
        "  return product\n",
        "\n",
        "# Example\n",
        "numbers = [1, 2, 3, 4, 5]\n",
        "result = multiply_list(numbers)\n",
        "print(result)"
      ],
      "metadata": {
        "colab": {
          "base_uri": "https://localhost:8080/"
        },
        "id": "id7Itm9_HVOW",
        "outputId": "69b61b34-116a-4ce7-f15b-59acb741d2b0"
      },
      "execution_count": null,
      "outputs": [
        {
          "output_type": "stream",
          "name": "stdout",
          "text": [
            "120\n"
          ]
        }
      ]
    },
    {
      "cell_type": "code",
      "source": [
        "#3\n",
        "def largest_number(numbers):\n",
        "  \"\"\"Finds the largest number in a list.\"\"\"\n",
        "  largest = numbers[0]  # Initialize largest with the first element\n",
        "  for num in numbers:\n",
        "    if num > largest:\n",
        "      largest = num\n",
        "  return largest\n",
        "\n",
        "# Example\n",
        "numbers = [10, 25, 3, 8, 15]\n",
        "result = largest_number(numbers)\n",
        "print( result)"
      ],
      "metadata": {
        "colab": {
          "base_uri": "https://localhost:8080/"
        },
        "id": "V62eq7nSH2mp",
        "outputId": "7c04ddce-7f24-4a85-e767-e398e31e140f"
      },
      "execution_count": null,
      "outputs": [
        {
          "output_type": "stream",
          "name": "stdout",
          "text": [
            "25\n"
          ]
        }
      ]
    },
    {
      "cell_type": "code",
      "source": [
        "#4\n",
        "def smallest_number(numbers):\n",
        "  \"\"\"Finds the smallest number in a list.\"\"\"\n",
        "  smallest = numbers[0]  # Initialize smallest with the first element\n",
        "  for num in numbers:\n",
        "    if num < smallest:\n",
        "      smallest = num\n",
        "  return smallest\n",
        "\n",
        "# Example\n",
        "numbers = [10, 25, 3, 8, 15]\n",
        "result = smallest_number(numbers)\n",
        "print( result)"
      ],
      "metadata": {
        "colab": {
          "base_uri": "https://localhost:8080/"
        },
        "id": "80t5HgC1IfCP",
        "outputId": "a48132df-a59f-430c-b082-24d85e6ad893"
      },
      "execution_count": null,
      "outputs": [
        {
          "output_type": "stream",
          "name": "stdout",
          "text": [
            "3\n"
          ]
        }
      ]
    },
    {
      "cell_type": "code",
      "source": [
        "#5\n",
        "def count_strings(strings):\n",
        "  \"\"\"Counts strings with the same first and last characters.\"\"\"\n",
        "  count = 0\n",
        "  for string in strings:\n",
        "    if len(string) >= 2 and string[0] == string[-1]:\n",
        "      count += 1\n",
        "  return count\n",
        "\n",
        "# Example\n",
        "strings = ['abc', 'xyz', 'aba', '1221']\n",
        "result = count_strings(strings)\n",
        "print( result)"
      ],
      "metadata": {
        "colab": {
          "base_uri": "https://localhost:8080/"
        },
        "id": "h77Y-JoLIexs",
        "outputId": "7b0dce1f-0cfe-4ce4-e10d-7ff6376235cd"
      },
      "execution_count": null,
      "outputs": [
        {
          "output_type": "stream",
          "name": "stdout",
          "text": [
            "2\n"
          ]
        }
      ]
    },
    {
      "cell_type": "code",
      "source": [
        "#1. Write a Python program to sum all the items in a list.\n",
        "\n",
        "def sum_list(numbers):\n",
        "  \"\"\"Sums all the items in a list.\"\"\"\n",
        "  total = 0\n",
        "  for num in numbers:\n",
        "    total += num\n",
        "  return total\n",
        "\n",
        "# Example\n",
        "numbers = [1, 2, 3, 4, 5]\n",
        "result = sum_list(numbers)\n",
        "print( result)"
      ],
      "metadata": {
        "id": "OahqvhNEriJR",
        "colab": {
          "base_uri": "https://localhost:8080/"
        },
        "outputId": "204a7d78-fe72-4754-ea3c-966fa86295c4"
      },
      "execution_count": null,
      "outputs": [
        {
          "output_type": "stream",
          "name": "stdout",
          "text": [
            "15\n"
          ]
        }
      ]
    },
    {
      "cell_type": "markdown",
      "source": [
        "#Tuple"
      ],
      "metadata": {
        "id": "zk-ntyW48PYV"
      }
    },
    {
      "cell_type": "code",
      "source": [
        "# 1. Write a Python program to create a tuple.\n",
        "# 2.Write a Python program to create a tuple with different data types.\n",
        "# 3 .Write a Python program to create a tuple of numbers and print one item.\n",
        "# 4. Write a Python program to unpack a tuple into several variables.\n",
        "# 5. Write a Python program to add an item to a tuple.\n",
        "# 6. Write a Python program to convert a tuple to a string.\n",
        "# 7. Write a Python program to get the 4th element from the last element of a tuple.\n",
        "# 8. Write a Python program to create the colon of a tuple."
      ],
      "metadata": {
        "id": "hkZ12rlS8R1v"
      },
      "execution_count": null,
      "outputs": []
    },
    {
      "cell_type": "code",
      "source": [
        "#1\n",
        "# Creating a tuple with various data types\n",
        "my_tuple = (10, \"hello\", 3.14, True)\n",
        "\n",
        "print(my_tuple)"
      ],
      "metadata": {
        "colab": {
          "base_uri": "https://localhost:8080/"
        },
        "id": "h2c_IRryL735",
        "outputId": "6eb7f3d4-b339-4d74-c2b8-231f1a6b9a52"
      },
      "execution_count": null,
      "outputs": [
        {
          "output_type": "stream",
          "name": "stdout",
          "text": [
            "(10, 'hello', 3.14, True)\n"
          ]
        }
      ]
    },
    {
      "cell_type": "code",
      "source": [
        "my_tuple = (10, \"hello\", 3.14, True)\n",
        "\n",
        "print(my_tuple)"
      ],
      "metadata": {
        "colab": {
          "base_uri": "https://localhost:8080/"
        },
        "id": "5Ammel-RMhNb",
        "outputId": "b02de071-32fe-41f1-9b01-0c67580ef295"
      },
      "execution_count": null,
      "outputs": [
        {
          "output_type": "stream",
          "name": "stdout",
          "text": [
            "(10, 'hello', 3.14, True)\n"
          ]
        }
      ]
    },
    {
      "cell_type": "code",
      "source": [
        "# Create a tuple of numbers\n",
        "my_tuple = (10, 20, 30, 40, 50)\n",
        "\n",
        "# Print the third item (index 2)\n",
        "print(my_tuple[2])"
      ],
      "metadata": {
        "colab": {
          "base_uri": "https://localhost:8080/"
        },
        "id": "KAcJT7KgMhCp",
        "outputId": "cd848bed-59f8-44be-fe96-84e0304ef7eb"
      },
      "execution_count": null,
      "outputs": [
        {
          "output_type": "stream",
          "name": "stdout",
          "text": [
            "30\n"
          ]
        }
      ]
    },
    {
      "cell_type": "code",
      "source": [
        "# Create a tuple\n",
        "my_tuple = (10, 20, 30)\n",
        "\n",
        "# Unpack the tuple into three variables\n",
        "a, b, c = my_tuple\n",
        "\n",
        "# Print the unpacked values\n",
        "print(a)\n",
        "print(b)\n",
        "print(c)"
      ],
      "metadata": {
        "colab": {
          "base_uri": "https://localhost:8080/"
        },
        "id": "KHd2ZAgJMg3p",
        "outputId": "891bebbc-1cf0-4c4b-b6ac-78155142d85a"
      },
      "execution_count": null,
      "outputs": [
        {
          "output_type": "stream",
          "name": "stdout",
          "text": [
            "10\n",
            "20\n",
            "30\n"
          ]
        }
      ]
    },
    {
      "cell_type": "code",
      "source": [
        "# Create an existing tuple\n",
        "my_tuple = (1, 2, 3)\n",
        "\n",
        "# Create a new tuple with the additional item\n",
        "new_tuple = my_tuple + (4,)\n",
        "\n",
        "print(new_tuple)"
      ],
      "metadata": {
        "colab": {
          "base_uri": "https://localhost:8080/"
        },
        "id": "r286SoV1Mgnt",
        "outputId": "e2795868-80f9-4771-81ad-4e40f4fa0660"
      },
      "execution_count": null,
      "outputs": [
        {
          "output_type": "stream",
          "name": "stdout",
          "text": [
            "(1, 2, 3, 4)\n"
          ]
        }
      ]
    },
    {
      "cell_type": "code",
      "source": [
        "# Create a tuple\n",
        "my_tuple = ('Hello', 'world', '!')\n",
        "\n",
        "# Convert the tuple to a string using the join() method\n",
        "string = ' '.join(my_tuple)\n",
        "\n",
        "print(string)"
      ],
      "metadata": {
        "colab": {
          "base_uri": "https://localhost:8080/"
        },
        "id": "je-AAlqCMgTR",
        "outputId": "f184616b-b401-4f72-bd83-5e11ec17aa27"
      },
      "execution_count": null,
      "outputs": [
        {
          "output_type": "stream",
          "name": "stdout",
          "text": [
            "Hello world !\n"
          ]
        }
      ]
    },
    {
      "cell_type": "code",
      "source": [
        "my_tuple = (10, 20, 30, 40, 50, 60, 70, 80)\n",
        "\n",
        "# Calculate the index of the 4th element from the last\n",
        "index = -4\n",
        "\n",
        "# Access the element using the calculated index\n",
        "fourth_from_last = my_tuple[index]\n",
        "\n",
        "print(fourth_from_last)"
      ],
      "metadata": {
        "colab": {
          "base_uri": "https://localhost:8080/"
        },
        "id": "x2Vun0HKMgG8",
        "outputId": "7ca3f2f7-61b0-4b49-dbd1-64818bcf3563"
      },
      "execution_count": null,
      "outputs": [
        {
          "output_type": "stream",
          "name": "stdout",
          "text": [
            "50\n"
          ]
        }
      ]
    },
    {
      "cell_type": "code",
      "source": [
        "my_tuple = (':',)\n",
        "\n",
        "print(my_tuple)"
      ],
      "metadata": {
        "colab": {
          "base_uri": "https://localhost:8080/"
        },
        "id": "rxxVhUk5MftH",
        "outputId": "ec2d39fd-2f0b-483f-9b81-251a898707a5"
      },
      "execution_count": null,
      "outputs": [
        {
          "output_type": "stream",
          "name": "stdout",
          "text": [
            "(':',)\n"
          ]
        }
      ]
    },
    {
      "cell_type": "markdown",
      "source": [
        "#set"
      ],
      "metadata": {
        "id": "kfmiIQMM8uuz"
      }
    },
    {
      "cell_type": "code",
      "source": [
        "# 1. Write a Python program to create a set.\n",
        "# 2. Write a Python program to iterate over sets\n",
        "# 3. Write a Python program to add member(s) to a set.\n",
        "# 4. Write a Python program to remove item(s) from a given set.\n",
        "# 5. Write a Python program to remove an item from a set if it is present in the set.\n",
        "# 6. Write a Python program to create an intersection of sets.\n",
        "# 7. Write a Python program to create a symmetric difference of sets.\n",
        "# 8. Write a Python program to find the maximum and minimum values in a set."
      ],
      "metadata": {
        "id": "J2F_f4dI8wMr"
      },
      "execution_count": null,
      "outputs": []
    },
    {
      "cell_type": "code",
      "source": [
        "# Create an empty set\n",
        "my_set = set()\n",
        "\n",
        "# Create a set with initial elements\n",
        "my_set = {1, 2, 3, 4, 5}\n",
        "\n",
        "print(my_set)"
      ],
      "metadata": {
        "colab": {
          "base_uri": "https://localhost:8080/"
        },
        "id": "d9Vs71NsOnes",
        "outputId": "346a1798-594b-4b9b-8182-24091bb0c951"
      },
      "execution_count": null,
      "outputs": [
        {
          "output_type": "stream",
          "name": "stdout",
          "text": [
            "{1, 2, 3, 4, 5}\n"
          ]
        }
      ]
    },
    {
      "cell_type": "code",
      "source": [
        "my_set = {1, 2, 3, 4, 5}\n",
        "\n",
        "# Iterate over the set using a for loop\n",
        "for element in my_set:\n",
        "    print(element)"
      ],
      "metadata": {
        "colab": {
          "base_uri": "https://localhost:8080/"
        },
        "id": "7ctEfWXQOnWu",
        "outputId": "a2301b5f-dc5f-4983-b13b-b92ac0a3cc95"
      },
      "execution_count": null,
      "outputs": [
        {
          "output_type": "stream",
          "name": "stdout",
          "text": [
            "1\n",
            "2\n",
            "3\n",
            "4\n",
            "5\n"
          ]
        }
      ]
    },
    {
      "cell_type": "code",
      "source": [
        "my_set = {1, 2, 3}\n",
        "\n",
        "# Add a single member\n",
        "my_set.add(4)\n",
        "\n",
        "# Add multiple members using the update() method\n",
        "my_set.update([5, 6, 7])\n",
        "\n",
        "print(my_set)"
      ],
      "metadata": {
        "colab": {
          "base_uri": "https://localhost:8080/"
        },
        "id": "MFzosst8OnPW",
        "outputId": "82f82657-612d-473f-ea1e-91a10a54336c"
      },
      "execution_count": null,
      "outputs": [
        {
          "output_type": "stream",
          "name": "stdout",
          "text": [
            "{1, 2, 3, 4, 5, 6, 7}\n"
          ]
        }
      ]
    },
    {
      "cell_type": "code",
      "source": [
        "my_set = {1, 2, 3, 4, 5}\n",
        "\n",
        "# Remove a single item using the remove() method\n",
        "my_set.remove(3)\n",
        "\n",
        "# Remove an item using the discard() method (doesn't raise an error if item is not found)\n",
        "my_set.discard(6)\n",
        "\n",
        "# Remove all items using the clear() method\n",
        "my_set.clear()\n",
        "\n",
        "print(my_set)"
      ],
      "metadata": {
        "colab": {
          "base_uri": "https://localhost:8080/"
        },
        "id": "ZHoHzPiXOnHX",
        "outputId": "c284d512-e6ed-4bad-fe9a-e6d20c77de83"
      },
      "execution_count": null,
      "outputs": [
        {
          "output_type": "stream",
          "name": "stdout",
          "text": [
            "set()\n"
          ]
        }
      ]
    },
    {
      "cell_type": "code",
      "source": [
        "my_set = {1, 2, 3, 4, 5}\n",
        "\n",
        "# Item to remove\n",
        "item_to_remove = 3\n",
        "\n",
        "# Check if the item is present and remove it\n",
        "if item_to_remove in my_set:\n",
        "    my_set.remove(item_to_remove)\n",
        "\n",
        "print(my_set)"
      ],
      "metadata": {
        "colab": {
          "base_uri": "https://localhost:8080/"
        },
        "id": "x_wv9gPkOm_Z",
        "outputId": "4fd69a3c-7348-47ff-a31d-5a1c4630570a"
      },
      "execution_count": null,
      "outputs": [
        {
          "output_type": "stream",
          "name": "stdout",
          "text": [
            "{1, 2, 4, 5}\n"
          ]
        }
      ]
    },
    {
      "cell_type": "code",
      "source": [
        "set1 = {1, 2, 3, 4, 5}\n",
        "set2 = {4, 5, 6, 7, 8}\n",
        "\n",
        "# Intersection using the intersection() method\n",
        "intersection_set = set1.intersection(set2)\n",
        "\n",
        "print(intersection_set)"
      ],
      "metadata": {
        "colab": {
          "base_uri": "https://localhost:8080/"
        },
        "id": "eiNQLsogOm3a",
        "outputId": "49892839-12e7-4846-9eac-7661bb5b1d14"
      },
      "execution_count": null,
      "outputs": [
        {
          "output_type": "stream",
          "name": "stdout",
          "text": [
            "{4, 5}\n"
          ]
        }
      ]
    },
    {
      "cell_type": "code",
      "source": [
        "set1 = {1, 2, 3, 4, 5}\n",
        "set2 = {4, 5, 6, 7, 8}\n",
        "\n",
        "# Symmetric difference using the symmetric_difference() method\n",
        "symmetric_difference_set = set1.symmetric_difference(set2)\n",
        "\n",
        "print(symmetric_difference_set)"
      ],
      "metadata": {
        "colab": {
          "base_uri": "https://localhost:8080/"
        },
        "id": "QV_FtYfMOmvM",
        "outputId": "596f156a-951f-4604-918a-b541d5928c76"
      },
      "execution_count": null,
      "outputs": [
        {
          "output_type": "stream",
          "name": "stdout",
          "text": [
            "{1, 2, 3, 6, 7, 8}\n"
          ]
        }
      ]
    },
    {
      "cell_type": "code",
      "source": [
        "my_set = {10, 25, 3, 45, 18}\n",
        "\n",
        "# Find the maximum value using the max() function\n",
        "max_value = max(my_set)\n",
        "\n",
        "# Find the minimum value using the min() function\n",
        "min_value = min(my_set)\n",
        "\n",
        "print(\"Maximum value:\", max_value)\n",
        "print(\"Minimum value:\", min_value)"
      ],
      "metadata": {
        "colab": {
          "base_uri": "https://localhost:8080/"
        },
        "id": "6DQKErOTOmkO",
        "outputId": "f6be1e9a-6b6e-4986-cd7d-791437d4f450"
      },
      "execution_count": null,
      "outputs": [
        {
          "output_type": "stream",
          "name": "stdout",
          "text": [
            "Maximum value: 45\n",
            "Minimum value: 3\n"
          ]
        }
      ]
    },
    {
      "cell_type": "markdown",
      "source": [
        "#doubt"
      ],
      "metadata": {
        "id": "qnBhFD7V4cot"
      }
    },
    {
      "cell_type": "code",
      "source": [
        "#5. Write a Python program to count the number of strings from a given list of strings. The string length is 2 or more and the first and last characters are the same.\n",
        "# Sample List : ['abc', 'xyz', 'aba', '1221']\n",
        "\n",
        "\n",
        "\n",
        "#take the given list and assign to a variable\n",
        "a = ['abc', 'xyz', 'aba', '1221']\n",
        "#for counting the intialisation count must be zero so take count as a varible and assign it with zero\n",
        "count = 0\n",
        "#run a for loop to give the condition  1.The string length is 2 or more for that i have used i is greater than 1 means string must have 2 letters\n",
        "#2nd  condition:- the first and last characters are the same. for that i am using indexing[0] = indexing[-1] -->last character\n",
        "for i in a:\n",
        "  if len(i) > 1 and i[0] == i[-1]:\n",
        "    count += 1     #count = count + 1\n",
        "print(count)"
      ],
      "metadata": {
        "colab": {
          "base_uri": "https://localhost:8080/"
        },
        "id": "oVOP7lGr4afW",
        "outputId": "df03fac8-5831-4873-ceb4-70258cf50191"
      },
      "execution_count": null,
      "outputs": [
        {
          "output_type": "stream",
          "name": "stdout",
          "text": [
            "2\n"
          ]
        }
      ]
    },
    {
      "cell_type": "code",
      "source": [
        "#Write a Python program to get a list, sorted in increasing order by the last element in each tuple from a given list of non-empty tuples.\n",
        "# Sample List : [(2, 5), (1, 2), (4, 4), (2, 3), (2, 1)]\n",
        "# Expected Result : [(2, 1), (1, 2), (2, 3), (4, 4), (2, 5)]\n",
        "\n",
        "#We can do this one in functions please don't do it\n",
        "\n",
        "\n",
        "# Define a function called 'last' that takes a single argument 'n' and returns the last element of 'n'\n",
        "def last(n):\n",
        "    return n[-1]\n",
        "\n",
        "# Define a function called 'sort_list_last' that takes a list of tuples 'tuples' as input\n",
        "def sort_list_last(tuples):\n",
        "    # Sort the list of tuples 'tuples' using the 'last' function as the key for sorting\n",
        "    return sorted(tuples, key=last)\n",
        "\n",
        "# Call the 'sort_list_last' function with a list of tuples as input and print the sorted result\n",
        "print(sort_list_last([(2, 5), (1, 2), (4, 4), (2, 3), (2, 1)]))\n"
      ],
      "metadata": {
        "id": "Iwq0n9aJ4bdk",
        "colab": {
          "base_uri": "https://localhost:8080/"
        },
        "outputId": "1f736caa-f775-4fcb-9ac8-1a53afd5c47f"
      },
      "execution_count": null,
      "outputs": [
        {
          "output_type": "stream",
          "name": "stdout",
          "text": [
            "[(2, 1), (1, 2), (2, 3), (4, 4), (2, 5)]\n"
          ]
        }
      ]
    },
    {
      "cell_type": "code",
      "source": [
        "# 8. Write a Python program to create the colon of a tuple.\n",
        "a = (\"hi\",2,4,[],'apple')\n",
        "#deepcopy\n",
        "from copy import deepcopy\n",
        "a_colon = deepcopy(a)\n",
        "\n",
        "a_colon[3].append(8)\n",
        "\n",
        "print(a_colon)\n",
        "\n"
      ],
      "metadata": {
        "colab": {
          "base_uri": "https://localhost:8080/"
        },
        "id": "sgPYy6FNTI41",
        "outputId": "0ad97808-0946-41d7-8101-ae0cc7825734"
      },
      "execution_count": null,
      "outputs": [
        {
          "output_type": "stream",
          "name": "stdout",
          "text": [
            "('hi', 2, 4, [8], 'apple')\n"
          ]
        }
      ]
    },
    {
      "cell_type": "code",
      "source": [
        "e = (1,2,3,4)\n",
        "a,b,c,d = e\n",
        "print(e[0])\n",
        "print"
      ],
      "metadata": {
        "id": "_27q5PQxVSmN",
        "colab": {
          "base_uri": "https://localhost:8080/"
        },
        "outputId": "3f969c4a-4cb5-4dfc-a90d-499d930796cf"
      },
      "execution_count": null,
      "outputs": [
        {
          "output_type": "stream",
          "name": "stdout",
          "text": [
            "1\n"
          ]
        },
        {
          "output_type": "execute_result",
          "data": {
            "text/plain": [
              "<function print>"
            ]
          },
          "metadata": {},
          "execution_count": 41
        }
      ]
    },
    {
      "cell_type": "code",
      "source": [
        "Tuple = (3e-04, False, True, 8.12, 1.111, True)\n",
        "\n",
        "value = 0\n",
        "\n",
        "for z in Tuple:\n",
        "\n",
        "    value += int(z)\n",
        "\n",
        "    print(value)"
      ],
      "metadata": {
        "colab": {
          "base_uri": "https://localhost:8080/"
        },
        "id": "OJq7N_RRULoA",
        "outputId": "0ed0b5ca-d6ee-40cd-d32c-db5c48a9f9b0"
      },
      "execution_count": null,
      "outputs": [
        {
          "output_type": "stream",
          "name": "stdout",
          "text": [
            "0\n",
            "0\n",
            "1\n",
            "9\n",
            "10\n",
            "11\n"
          ]
        }
      ]
    },
    {
      "cell_type": "code",
      "source": [
        "print(ord(\"a\"))"
      ],
      "metadata": {
        "colab": {
          "base_uri": "https://localhost:8080/"
        },
        "id": "Q_tq0xKbknys",
        "outputId": "b7fe7a0b-7736-4ee0-cfe1-20b264c3cc3c"
      },
      "execution_count": null,
      "outputs": [
        {
          "output_type": "stream",
          "name": "stdout",
          "text": [
            "97\n"
          ]
        }
      ]
    }
  ]
}